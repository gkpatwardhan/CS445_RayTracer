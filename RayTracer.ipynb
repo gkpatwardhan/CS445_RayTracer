{
  "nbformat": 4,
  "nbformat_minor": 0,
  "metadata": {
    "colab": {
      "provenance": [],
      "authorship_tag": "ABX9TyPHZxYLVGrcMgPHHLOswZSw",
      "include_colab_link": true
    },
    "kernelspec": {
      "name": "python3",
      "display_name": "Python 3"
    },
    "language_info": {
      "name": "python"
    }
  },
  "cells": [
    {
      "cell_type": "markdown",
      "metadata": {
        "id": "view-in-github",
        "colab_type": "text"
      },
      "source": [
        "<a href=\"https://colab.research.google.com/github/gkpatwardhan/CS445_RayTracer/blob/hello_world_setup/RayTracer.ipynb\" target=\"_parent\"><img src=\"https://colab.research.google.com/assets/colab-badge.svg\" alt=\"Open In Colab\"/></a>"
      ]
    },
    {
      "cell_type": "code",
      "source": [
        "!pip install tqdm      # for showing progress bar when rendering images\n",
        "!pip install VectorsPY # for vector 3"
      ],
      "metadata": {
        "colab": {
          "base_uri": "https://localhost:8080/"
        },
        "id": "ZEDpfQvISLWg",
        "outputId": "675b5c79-2a0f-4634-abd8-0c03e1cc92ac"
      },
      "execution_count": 14,
      "outputs": [
        {
          "output_type": "stream",
          "name": "stdout",
          "text": [
            "Requirement already satisfied: tqdm in /usr/local/lib/python3.10/dist-packages (4.66.2)\n",
            "Collecting VectorsPY\n",
            "  Downloading VectorsPY-1.0.2-py3-none-any.whl (15 kB)\n",
            "Installing collected packages: VectorsPY\n",
            "Successfully installed VectorsPY-1.0.2\n"
          ]
        }
      ]
    },
    {
      "cell_type": "code",
      "execution_count": 19,
      "metadata": {
        "id": "KdXdRTo2N0x_"
      },
      "outputs": [],
      "source": [
        "# imports\n",
        "import cv2\n",
        "import matplotlib.pyplot as plt\n",
        "from PIL import Image\n",
        "from tqdm import tqdm\n",
        "from VectorsPY import Vector3"
      ]
    },
    {
      "cell_type": "code",
      "source": [
        "# Settings types\n",
        "\n",
        "# create two aliases for vector 3 -- one for position and another for color\n",
        "Position = Vector3\n",
        "Color = Vector3"
      ],
      "metadata": {
        "id": "n7r_VwRtTziv"
      },
      "execution_count": 20,
      "outputs": []
    },
    {
      "cell_type": "code",
      "source": [
        "# Color helper functions\n",
        "def write_color(pixel_color: Color) -> str:\n",
        "    return f\"{int(255.999 * (pixel_color.x))} {int(255.999 * (pixel_color.y))} {int(255.999 * (pixel_color.z))}\\n\""
      ],
      "metadata": {
        "id": "uYXWJVv-UWIe"
      },
      "execution_count": 23,
      "outputs": []
    },
    {
      "cell_type": "code",
      "source": [
        "# Hello World PPM - ensure this functions correctly as future code will use similar logic to create, store and view PPM images\n",
        "def hello_world_ppm():\n",
        "    ppm_file = 'hello_world.ppm'\n",
        "    ppm_image = open(ppm_file, 'w')\n",
        "    height = width = 256\n",
        "    ppm_image.write(f\"P3\\n{width} {height}\\n255\\n\")\n",
        "    for h in tqdm(range(height)):\n",
        "        for w in range(width):\n",
        "            pixel_color = Color(float(h) / (width - 1), float(w) / (height - 1), 0)\n",
        "            ppm_image.write(write_color(pixel_color))\n",
        "    ppm_image.close()\n",
        "\n",
        "    img = cv2.imread(ppm_file)\n",
        "    img = cv2.cvtColor(img,cv2.COLOR_BGR2RGB)\n",
        "    plt.imshow(img)\n",
        "    plt.show()\n",
        "\n",
        "hello_world_ppm()"
      ],
      "metadata": {
        "colab": {
          "base_uri": "https://localhost:8080/",
          "height": 453
        },
        "id": "d9bPjACUQSak",
        "outputId": "65605ed8-3c81-44d3-b2e8-dbff380eab3f"
      },
      "execution_count": 25,
      "outputs": [
        {
          "output_type": "stream",
          "name": "stderr",
          "text": [
            "100%|██████████| 256/256 [00:00<00:00, 2568.20it/s]\n"
          ]
        },
        {
          "output_type": "display_data",
          "data": {
            "text/plain": [
              "<Figure size 640x480 with 1 Axes>"
            ],
            "image/png": "[encoded data removed]"
          },
          "metadata": {}
        }
      ]
    },
    {
      "cell_type": "code",
      "source": [],
      "metadata": {
        "id": "tOlxVoaaRxVh"
      },
      "execution_count": null,
      "outputs": []
    }
  ]
}